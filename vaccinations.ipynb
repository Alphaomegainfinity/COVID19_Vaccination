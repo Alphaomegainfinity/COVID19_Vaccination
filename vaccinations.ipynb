{
 "cells": [
  {
   "cell_type": "code",
   "execution_count": 1,
   "metadata": {},
   "outputs": [
    {
     "ename": "NameError",
     "evalue": "name 'config' is not defined",
     "output_type": "error",
     "traceback": [
      "\u001b[1;31m---------------------------------------------------------------------------\u001b[0m",
      "\u001b[1;31mNameError\u001b[0m                                 Traceback (most recent call last)",
      "\u001b[1;32m~\\AppData\\Local\\Temp\\ipykernel_22288\\3691974215.py\u001b[0m in \u001b[0;36m<module>\u001b[1;34m\u001b[0m\n\u001b[0;32m      6\u001b[0m \u001b[1;33m\u001b[0m\u001b[0m\n\u001b[0;32m      7\u001b[0m \u001b[1;31m#Config should contain database username as username and database password as password\u001b[0m\u001b[1;33m\u001b[0m\u001b[1;33m\u001b[0m\u001b[1;33m\u001b[0m\u001b[0m\n\u001b[1;32m----> 8\u001b[1;33m \u001b[1;32mimport\u001b[0m \u001b[0mconfig\u001b[0m\u001b[1;33m\u001b[0m\u001b[1;33m\u001b[0m\u001b[0m\n\u001b[0m",
      "\u001b[1;32mg:\\Study Cert\\homeworks\\project-two\\config.py\u001b[0m in \u001b[0;36m<module>\u001b[1;34m\u001b[0m\n\u001b[1;32m----> 1\u001b[1;33m \u001b[0mconfig\u001b[0m\u001b[1;33m.\u001b[0m\u001b[0musername\u001b[0m\u001b[1;33m\u001b[0m\u001b[1;33m\u001b[0m\u001b[0m\n\u001b[0m\u001b[0;32m      2\u001b[0m \u001b[1;31m#config.password\u001b[0m\u001b[1;33m\u001b[0m\u001b[1;33m\u001b[0m\u001b[1;33m\u001b[0m\u001b[0m\n\u001b[0;32m      3\u001b[0m \u001b[1;31m#config.database_name\u001b[0m\u001b[1;33m\u001b[0m\u001b[1;33m\u001b[0m\u001b[1;33m\u001b[0m\u001b[0m\n",
      "\u001b[1;31mNameError\u001b[0m: name 'config' is not defined"
     ]
    }
   ],
   "source": [
    "# import dependecies \n",
    "\n",
    "import pandas as pd\n",
    "from sqlalchemy import create_engine\n",
    "from sqlalchemy import inspect\n",
    "\n",
    "#Config should contain database username as username and database password as password\n",
    "#import config"
   ]
  },
  {
   "cell_type": "code",
   "execution_count": null,
   "metadata": {},
   "outputs": [],
   "source": [
    "#Make sure the following are present in your config file:\n",
    "#config.username\n",
    "#config.password\n",
    "#config.database_name"
   ]
  },
  {
   "cell_type": "code",
   "execution_count": null,
   "metadata": {},
   "outputs": [],
   "source": [
    "# read vaccinations csv\n",
    "\n",
    "csv_file = \"Resources/vaccinations.csv\"\n",
    "vaccinations_df = pd.read_csv(csv_file)\n",
    "vaccinations_df.head()"
   ]
  },
  {
   "cell_type": "code",
   "execution_count": null,
   "metadata": {},
   "outputs": [],
   "source": [
    "# set columns for first table\n",
    "\n",
    "vaccination_rate_df = vaccinations_df[['location', 'iso_code', 'date', 'people_vaccinated', 'people_fully_vaccinated', 'total_boosters', 'daily_vaccinations' ]].copy()\n",
    "vaccination_rate_df.head()"
   ]
  },
  {
   "cell_type": "code",
   "execution_count": null,
   "metadata": {},
   "outputs": [],
   "source": [
    "# set columns for second table\n",
    "\n",
    "vaccination_daily_df = vaccinations_df[['location', 'iso_code', 'date', 'people_vaccinated_per_hundred', 'people_fully_vaccinated_per_hundred', 'total_boosters_per_hundred', 'daily_vaccinations_per_million' ]].copy()\n",
    "vaccination_daily_df.head()"
   ]
  },
  {
   "cell_type": "code",
   "execution_count": null,
   "metadata": {},
   "outputs": [],
   "source": [
    "# group by country for third table \n",
    "\n",
    "# vaccination_country_df = vaccinations_df.groupby\n",
    "# vaccination_country_df.head()# Setting Up Country Reference Table\n",
    "countries_df = pd.DataFrame({\"location\": vaccinations_df[\"location\"].unique(), \"iso_code\": vaccinations_df[\"iso_code\"].unique()})\n",
    "countries_df.head()"
   ]
  },
  {
   "cell_type": "markdown",
   "metadata": {},
   "source": [
    "## Region Date Metadata"
   ]
  },
  {
   "cell_type": "code",
   "execution_count": null,
   "metadata": {},
   "outputs": [],
   "source": [
    "# read region_date_metadata.csv\n",
    "\n",
    "path = \"Resources/region_date_metadata.csv\"\n",
    "region_date_df = pd.read_csv(path)\n",
    "region_date_df.head()"
   ]
  },
  {
   "cell_type": "code",
   "execution_count": null,
   "metadata": {},
   "outputs": [],
   "source": [
    "#Set column for 4th table\n",
    "region_date_metadata = region_date_df[['Country_Region', 'Province_State', 'Date', 'Recoveries']].copy()\n",
    "region_date_metadata.head()"
   ]
  },
  {
   "cell_type": "code",
   "execution_count": null,
   "metadata": {},
   "outputs": [],
   "source": [
    "#Groupby the data  as per Country_region and Date\n",
    "region_date_metadata_groupby = region_date_metadata.groupby(['Country_Region', 'Date']).sum()['Recoveries']\n",
    "region_date_metadata_groupby = pd.DataFrame(region_date_metadata_groupby)\n",
    "region_date_metadata_groupby"
   ]
  },
  {
   "cell_type": "code",
   "execution_count": null,
   "metadata": {},
   "outputs": [],
   "source": [
    "#Removing index columns\n",
    "region_date_metadata_df = region_date_metadata_groupby.reset_index(['Country_Region', 'Date'])\n",
    "region_date_metadata_df"
   ]
  },
  {
   "cell_type": "markdown",
   "metadata": {},
   "source": [
    "## Region Metadata"
   ]
  },
  {
   "cell_type": "code",
   "execution_count": 2,
   "metadata": {},
   "outputs": [
    {
     "data": {
      "text/html": [
       "<div>\n",
       "<style scoped>\n",
       "    .dataframe tbody tr th:only-of-type {\n",
       "        vertical-align: middle;\n",
       "    }\n",
       "\n",
       "    .dataframe tbody tr th {\n",
       "        vertical-align: top;\n",
       "    }\n",
       "\n",
       "    .dataframe thead th {\n",
       "        text-align: right;\n",
       "    }\n",
       "</style>\n",
       "<table border=\"1\" class=\"dataframe\">\n",
       "  <thead>\n",
       "    <tr style=\"text-align: right;\">\n",
       "      <th></th>\n",
       "      <th>Country_Region</th>\n",
       "      <th>Province_State</th>\n",
       "      <th>lat</th>\n",
       "      <th>lon</th>\n",
       "      <th>continent</th>\n",
       "      <th>population</th>\n",
       "      <th>area</th>\n",
       "      <th>density</th>\n",
       "    </tr>\n",
       "  </thead>\n",
       "  <tbody>\n",
       "    <tr>\n",
       "      <th>0</th>\n",
       "      <td>Afghanistan</td>\n",
       "      <td>NaN</td>\n",
       "      <td>33.0000</td>\n",
       "      <td>65.0000</td>\n",
       "      <td>Asia</td>\n",
       "      <td>38041754</td>\n",
       "      <td>652230</td>\n",
       "      <td>58.33</td>\n",
       "    </tr>\n",
       "    <tr>\n",
       "      <th>1</th>\n",
       "      <td>Albania</td>\n",
       "      <td>NaN</td>\n",
       "      <td>41.1533</td>\n",
       "      <td>20.1683</td>\n",
       "      <td>Europe</td>\n",
       "      <td>2880917</td>\n",
       "      <td>28748</td>\n",
       "      <td>100.21</td>\n",
       "    </tr>\n",
       "    <tr>\n",
       "      <th>2</th>\n",
       "      <td>Algeria</td>\n",
       "      <td>NaN</td>\n",
       "      <td>28.0339</td>\n",
       "      <td>1.6596</td>\n",
       "      <td>Africa</td>\n",
       "      <td>43053054</td>\n",
       "      <td>2381741</td>\n",
       "      <td>18.08</td>\n",
       "    </tr>\n",
       "    <tr>\n",
       "      <th>3</th>\n",
       "      <td>Andorra</td>\n",
       "      <td>NaN</td>\n",
       "      <td>42.5063</td>\n",
       "      <td>1.5218</td>\n",
       "      <td>Europe</td>\n",
       "      <td>77142</td>\n",
       "      <td>468</td>\n",
       "      <td>164.83</td>\n",
       "    </tr>\n",
       "    <tr>\n",
       "      <th>4</th>\n",
       "      <td>Angola</td>\n",
       "      <td>NaN</td>\n",
       "      <td>-11.2027</td>\n",
       "      <td>17.8739</td>\n",
       "      <td>Africa</td>\n",
       "      <td>31825295</td>\n",
       "      <td>1246700</td>\n",
       "      <td>25.53</td>\n",
       "    </tr>\n",
       "  </tbody>\n",
       "</table>\n",
       "</div>"
      ],
      "text/plain": [
       "  Country_Region Province_State      lat      lon continent  population  \\\n",
       "0    Afghanistan            NaN  33.0000  65.0000      Asia    38041754   \n",
       "1        Albania            NaN  41.1533  20.1683    Europe     2880917   \n",
       "2        Algeria            NaN  28.0339   1.6596    Africa    43053054   \n",
       "3        Andorra            NaN  42.5063   1.5218    Europe       77142   \n",
       "4         Angola            NaN -11.2027  17.8739    Africa    31825295   \n",
       "\n",
       "      area  density  \n",
       "0   652230    58.33  \n",
       "1    28748   100.21  \n",
       "2  2381741    18.08  \n",
       "3      468   164.83  \n",
       "4  1246700    25.53  "
      ]
     },
     "execution_count": 2,
     "metadata": {},
     "output_type": "execute_result"
    }
   ],
   "source": [
    "# load csv to pandas dataframe\n",
    "\n",
    "path2 = \"Resources/region_metadata.csv\"\n",
    "region_metadata_df = pd.read_csv(path2)\n",
    "region_metadata_df.head()"
   ]
  },
  {
   "cell_type": "code",
   "execution_count": 9,
   "metadata": {},
   "outputs": [
    {
     "data": {
      "text/html": [
       "<div>\n",
       "<style scoped>\n",
       "    .dataframe tbody tr th:only-of-type {\n",
       "        vertical-align: middle;\n",
       "    }\n",
       "\n",
       "    .dataframe tbody tr th {\n",
       "        vertical-align: top;\n",
       "    }\n",
       "\n",
       "    .dataframe thead th {\n",
       "        text-align: right;\n",
       "    }\n",
       "</style>\n",
       "<table border=\"1\" class=\"dataframe\">\n",
       "  <thead>\n",
       "    <tr style=\"text-align: right;\">\n",
       "      <th></th>\n",
       "      <th>Country_Region</th>\n",
       "      <th>Province_State</th>\n",
       "      <th>lat</th>\n",
       "      <th>lon</th>\n",
       "      <th>continent</th>\n",
       "      <th>population</th>\n",
       "      <th>area</th>\n",
       "      <th>density</th>\n",
       "    </tr>\n",
       "  </thead>\n",
       "  <tbody>\n",
       "    <tr>\n",
       "      <th>0</th>\n",
       "      <td>Afghanistan</td>\n",
       "      <td>NaN</td>\n",
       "      <td>33.0000</td>\n",
       "      <td>65.0000</td>\n",
       "      <td>Asia</td>\n",
       "      <td>38041754</td>\n",
       "      <td>652230</td>\n",
       "      <td>58.33</td>\n",
       "    </tr>\n",
       "    <tr>\n",
       "      <th>1</th>\n",
       "      <td>Albania</td>\n",
       "      <td>NaN</td>\n",
       "      <td>41.1533</td>\n",
       "      <td>20.1683</td>\n",
       "      <td>Europe</td>\n",
       "      <td>2880917</td>\n",
       "      <td>28748</td>\n",
       "      <td>100.21</td>\n",
       "    </tr>\n",
       "    <tr>\n",
       "      <th>2</th>\n",
       "      <td>Algeria</td>\n",
       "      <td>NaN</td>\n",
       "      <td>28.0339</td>\n",
       "      <td>1.6596</td>\n",
       "      <td>Africa</td>\n",
       "      <td>43053054</td>\n",
       "      <td>2381741</td>\n",
       "      <td>18.08</td>\n",
       "    </tr>\n",
       "    <tr>\n",
       "      <th>3</th>\n",
       "      <td>Andorra</td>\n",
       "      <td>NaN</td>\n",
       "      <td>42.5063</td>\n",
       "      <td>1.5218</td>\n",
       "      <td>Europe</td>\n",
       "      <td>77142</td>\n",
       "      <td>468</td>\n",
       "      <td>164.83</td>\n",
       "    </tr>\n",
       "    <tr>\n",
       "      <th>4</th>\n",
       "      <td>Angola</td>\n",
       "      <td>NaN</td>\n",
       "      <td>-11.2027</td>\n",
       "      <td>17.8739</td>\n",
       "      <td>Africa</td>\n",
       "      <td>31825295</td>\n",
       "      <td>1246700</td>\n",
       "      <td>25.53</td>\n",
       "    </tr>\n",
       "    <tr>\n",
       "      <th>...</th>\n",
       "      <td>...</td>\n",
       "      <td>...</td>\n",
       "      <td>...</td>\n",
       "      <td>...</td>\n",
       "      <td>...</td>\n",
       "      <td>...</td>\n",
       "      <td>...</td>\n",
       "      <td>...</td>\n",
       "    </tr>\n",
       "    <tr>\n",
       "      <th>315</th>\n",
       "      <td>West Bank and Gaza</td>\n",
       "      <td>NaN</td>\n",
       "      <td>31.6000</td>\n",
       "      <td>34.8000</td>\n",
       "      <td>Asia</td>\n",
       "      <td>5190143</td>\n",
       "      <td>6020</td>\n",
       "      <td>862.15</td>\n",
       "    </tr>\n",
       "    <tr>\n",
       "      <th>316</th>\n",
       "      <td>Western Sahara</td>\n",
       "      <td>NaN</td>\n",
       "      <td>24.2155</td>\n",
       "      <td>-12.8858</td>\n",
       "      <td>Africa</td>\n",
       "      <td>567402</td>\n",
       "      <td>266000</td>\n",
       "      <td>2.13</td>\n",
       "    </tr>\n",
       "    <tr>\n",
       "      <th>317</th>\n",
       "      <td>Yemen</td>\n",
       "      <td>NaN</td>\n",
       "      <td>15.5527</td>\n",
       "      <td>48.5164</td>\n",
       "      <td>Asia</td>\n",
       "      <td>28498683</td>\n",
       "      <td>527968</td>\n",
       "      <td>53.98</td>\n",
       "    </tr>\n",
       "    <tr>\n",
       "      <th>318</th>\n",
       "      <td>Zambia</td>\n",
       "      <td>NaN</td>\n",
       "      <td>-15.4167</td>\n",
       "      <td>28.2833</td>\n",
       "      <td>Africa</td>\n",
       "      <td>17861030</td>\n",
       "      <td>752612</td>\n",
       "      <td>23.73</td>\n",
       "    </tr>\n",
       "    <tr>\n",
       "      <th>319</th>\n",
       "      <td>Zimbabwe</td>\n",
       "      <td>NaN</td>\n",
       "      <td>-20.0000</td>\n",
       "      <td>30.0000</td>\n",
       "      <td>Africa</td>\n",
       "      <td>14645468</td>\n",
       "      <td>390757</td>\n",
       "      <td>37.48</td>\n",
       "    </tr>\n",
       "  </tbody>\n",
       "</table>\n",
       "<p>320 rows × 8 columns</p>\n",
       "</div>"
      ],
      "text/plain": [
       "         Country_Region Province_State      lat      lon continent  \\\n",
       "0           Afghanistan            NaN  33.0000  65.0000      Asia   \n",
       "1               Albania            NaN  41.1533  20.1683    Europe   \n",
       "2               Algeria            NaN  28.0339   1.6596    Africa   \n",
       "3               Andorra            NaN  42.5063   1.5218    Europe   \n",
       "4                Angola            NaN -11.2027  17.8739    Africa   \n",
       "..                  ...            ...      ...      ...       ...   \n",
       "315  West Bank and Gaza            NaN  31.6000  34.8000      Asia   \n",
       "316      Western Sahara            NaN  24.2155 -12.8858    Africa   \n",
       "317               Yemen            NaN  15.5527  48.5164      Asia   \n",
       "318              Zambia            NaN -15.4167  28.2833    Africa   \n",
       "319            Zimbabwe            NaN -20.0000  30.0000    Africa   \n",
       "\n",
       "     population     area  density  \n",
       "0      38041754   652230    58.33  \n",
       "1       2880917    28748   100.21  \n",
       "2      43053054  2381741    18.08  \n",
       "3         77142      468   164.83  \n",
       "4      31825295  1246700    25.53  \n",
       "..          ...      ...      ...  \n",
       "315     5190143     6020   862.15  \n",
       "316      567402   266000     2.13  \n",
       "317    28498683   527968    53.98  \n",
       "318    17861030   752612    23.73  \n",
       "319    14645468   390757    37.48  \n",
       "\n",
       "[320 rows x 8 columns]"
      ]
     },
     "execution_count": 9,
     "metadata": {},
     "output_type": "execute_result"
    }
   ],
   "source": [
    "region_metadata = region_metadata_df.copy()"
   ]
  },
  {
   "cell_type": "code",
   "execution_count": 12,
   "metadata": {},
   "outputs": [],
   "source": [
    "#groupby \n",
    "\n",
    "region_metadata_groupby = region_metadata.groupby(['Country_Region']).sum()['population']\n",
    "region_metadata_ = pd.DataFrame(region_metadata_groupby)"
   ]
  },
  {
   "cell_type": "code",
   "execution_count": 13,
   "metadata": {},
   "outputs": [
    {
     "data": {
      "text/html": [
       "<div>\n",
       "<style scoped>\n",
       "    .dataframe tbody tr th:only-of-type {\n",
       "        vertical-align: middle;\n",
       "    }\n",
       "\n",
       "    .dataframe tbody tr th {\n",
       "        vertical-align: top;\n",
       "    }\n",
       "\n",
       "    .dataframe thead th {\n",
       "        text-align: right;\n",
       "    }\n",
       "</style>\n",
       "<table border=\"1\" class=\"dataframe\">\n",
       "  <thead>\n",
       "    <tr style=\"text-align: right;\">\n",
       "      <th></th>\n",
       "      <th>Country_Region</th>\n",
       "      <th>population</th>\n",
       "    </tr>\n",
       "  </thead>\n",
       "  <tbody>\n",
       "    <tr>\n",
       "      <th>0</th>\n",
       "      <td>Afghanistan</td>\n",
       "      <td>38041754</td>\n",
       "    </tr>\n",
       "    <tr>\n",
       "      <th>1</th>\n",
       "      <td>Albania</td>\n",
       "      <td>2880917</td>\n",
       "    </tr>\n",
       "    <tr>\n",
       "      <th>2</th>\n",
       "      <td>Algeria</td>\n",
       "      <td>43053054</td>\n",
       "    </tr>\n",
       "    <tr>\n",
       "      <th>3</th>\n",
       "      <td>Andorra</td>\n",
       "      <td>77142</td>\n",
       "    </tr>\n",
       "    <tr>\n",
       "      <th>4</th>\n",
       "      <td>Angola</td>\n",
       "      <td>31825295</td>\n",
       "    </tr>\n",
       "    <tr>\n",
       "      <th>...</th>\n",
       "      <td>...</td>\n",
       "      <td>...</td>\n",
       "    </tr>\n",
       "    <tr>\n",
       "      <th>182</th>\n",
       "      <td>West Bank and Gaza</td>\n",
       "      <td>5190143</td>\n",
       "    </tr>\n",
       "    <tr>\n",
       "      <th>183</th>\n",
       "      <td>Western Sahara</td>\n",
       "      <td>567402</td>\n",
       "    </tr>\n",
       "    <tr>\n",
       "      <th>184</th>\n",
       "      <td>Yemen</td>\n",
       "      <td>28498683</td>\n",
       "    </tr>\n",
       "    <tr>\n",
       "      <th>185</th>\n",
       "      <td>Zambia</td>\n",
       "      <td>17861030</td>\n",
       "    </tr>\n",
       "    <tr>\n",
       "      <th>186</th>\n",
       "      <td>Zimbabwe</td>\n",
       "      <td>14645468</td>\n",
       "    </tr>\n",
       "  </tbody>\n",
       "</table>\n",
       "<p>187 rows × 2 columns</p>\n",
       "</div>"
      ],
      "text/plain": [
       "         Country_Region  population\n",
       "0           Afghanistan    38041754\n",
       "1               Albania     2880917\n",
       "2               Algeria    43053054\n",
       "3               Andorra       77142\n",
       "4                Angola    31825295\n",
       "..                  ...         ...\n",
       "182  West Bank and Gaza     5190143\n",
       "183      Western Sahara      567402\n",
       "184               Yemen    28498683\n",
       "185              Zambia    17861030\n",
       "186            Zimbabwe    14645468\n",
       "\n",
       "[187 rows x 2 columns]"
      ]
     },
     "execution_count": 13,
     "metadata": {},
     "output_type": "execute_result"
    }
   ],
   "source": [
    "#reset_index to fit in the SQL table\n",
    "region_metadata_ = region_metadata_.reset_index('Country_Region')\n",
    "region_metadata_"
   ]
  },
  {
   "cell_type": "code",
   "execution_count": null,
   "metadata": {},
   "outputs": [],
   "source": [
    "# connect to SQL database \n",
    "\n",
    "protocol = 'postgresql'\n",
    "username = config.username\n",
    "password = config.password\n",
    "host = 'localhost'\n",
    "port = 5432\n",
    "database_name = config.database_name\n",
    "rds_connection_string = f'{protocol}://{username}:{password}@{host}:{port}/{database_name}'\n",
    "engine = create_engine(rds_connection_string)\n",
    "insp = inspect(engine)"
   ]
  },
  {
   "cell_type": "code",
   "execution_count": null,
   "metadata": {},
   "outputs": [],
   "source": [
    "# check tables\n",
    "\n",
    "insp.get_table_names()"
   ]
  },
  {
   "cell_type": "code",
   "execution_count": null,
   "metadata": {},
   "outputs": [],
   "source": [
    "# Push countries lookup table to database\n",
    "countries_df.to_sql(name=\"countries\",con=engine,if_exists=\"fail\", index=False)"
   ]
  },
  {
   "cell_type": "code",
   "execution_count": null,
   "metadata": {},
   "outputs": [],
   "source": [
    "# push first table to database  \n",
    "\n",
    "vaccination_rate_df.to_sql(name='vaccinations', con=engine, if_exists='append', index=False)"
   ]
  },
  {
   "cell_type": "code",
   "execution_count": null,
   "metadata": {},
   "outputs": [],
   "source": [
    "# push second table to database  \n",
    "\n",
    "vaccination_daily_df.to_sql(name='', con=engine, if_exists='append', index=False)"
   ]
  },
  {
   "cell_type": "code",
   "execution_count": null,
   "metadata": {},
   "outputs": [],
   "source": [
    "# push thrid table to database  \n",
    "\n",
    "# vaccination_country_df.to_sql(name='', con=engine, if_exists='append', index=False)"
   ]
  },
  {
   "cell_type": "code",
   "execution_count": null,
   "metadata": {},
   "outputs": [],
   "source": [
    "# check data upload first table\n",
    "\n",
    "pd.read_sql_query('select * from ', con=engine).head()"
   ]
  },
  {
   "cell_type": "code",
   "execution_count": null,
   "metadata": {},
   "outputs": [],
   "source": [
    "# check data upload second table\n",
    "\n",
    "pd.read_sql_query('select * from ', con=engine).head()"
   ]
  },
  {
   "cell_type": "code",
   "execution_count": null,
   "metadata": {},
   "outputs": [],
   "source": [
    "# check data upload third table\n",
    "\n",
    "pd.read_sql_query('select * from ', con=engine).head()"
   ]
  }
 ],
 "metadata": {
  "kernelspec": {
   "display_name": "Python 3.7.7 ('PythonData')",
   "language": "python",
   "name": "python3"
  },
  "language_info": {
   "codemirror_mode": {
    "name": "ipython",
    "version": 3
   },
   "file_extension": ".py",
   "mimetype": "text/x-python",
   "name": "python",
   "nbconvert_exporter": "python",
   "pygments_lexer": "ipython3",
   "version": "3.7.7"
  },
  "vscode": {
   "interpreter": {
    "hash": "7b04545d47c7e2738fd342f4668feff05623af388be79fa657245cc082efc99d"
   }
  }
 },
 "nbformat": 4,
 "nbformat_minor": 2
}
