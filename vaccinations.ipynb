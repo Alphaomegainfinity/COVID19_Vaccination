{
 "cells": [
  {
   "cell_type": "code",
   "execution_count": null,
   "metadata": {},
   "outputs": [],
   "source": [
    "# import dependecies \n",
    "\n",
    "import pandas as pd\n",
    "from sqlalchemy import create_engine\n",
    "from sqlalchemy import inspect\n",
    "\n",
    "#Config should contain database username as username and database password as password\n",
    "import config"
   ]
  },
  {
   "cell_type": "code",
   "execution_count": null,
   "metadata": {},
   "outputs": [],
   "source": [
    "#Make sure the following are present in your config file:\n",
    "#config.username\n",
    "#config.password\n",
    "#config.database_name"
   ]
  },
  {
   "cell_type": "code",
   "execution_count": null,
   "metadata": {},
   "outputs": [],
   "source": [
    "# read vaccinations csv\n",
    "\n",
    "csv_file = \"Resources/vaccinations.csv\"\n",
    "vaccinations_df = pd.read_csv(csv_file)\n",
    "vaccinations_df.head()"
   ]
  },
  {
   "cell_type": "code",
   "execution_count": null,
   "metadata": {},
   "outputs": [],
   "source": [
    "# set columns for first table\n",
    "\n",
    "vaccination_rate_df = vaccinations_df[['location', 'iso_code', 'date', 'people_vaccinated', 'people_fully_vaccinated', 'total_boosters', 'daily_vaccinations_raw']].copy()\n",
    "vaccination_rate_df.head()"
   ]
  },
  {
   "cell_type": "code",
   "execution_count": null,
   "metadata": {},
   "outputs": [],
   "source": [
    "# Fill NaN values with zero\n",
    "\n",
    "vaccination_rate_df.fillna(0, inplace=True)\n",
    "vaccination_rate_df.head()"
   ]
  },
  {
   "cell_type": "code",
   "execution_count": null,
   "metadata": {},
   "outputs": [],
   "source": [
    "# Filter Zero values from people vaccinated column\n",
    "\n",
    "vaccination_rate_df = vaccination_rate_df.loc[vaccination_rate_df[\"people_vaccinated\"] > 0]\n",
    "\n",
    "vaccination_rate_df.head()"
   ]
  },
  {
   "cell_type": "code",
   "execution_count": null,
   "metadata": {},
   "outputs": [],
   "source": [
    "# set columns for second table\n",
    "\n",
    "vaccination_perhundred_df = vaccinations_df[['location', 'iso_code', 'date', 'people_vaccinated_per_hundred', 'people_fully_vaccinated_per_hundred', 'total_boosters_per_hundred', 'daily_vaccinations_per_million' ]].copy()\n",
    "vaccination_perhundred_df.head()"
   ]
  },
  {
   "cell_type": "code",
   "execution_count": null,
   "metadata": {},
   "outputs": [],
   "source": [
    "vaccination_perhundred_df.fillna(0, inplace=True)\n",
    "vaccination_perhundred_df.head()"
   ]
  },
  {
   "cell_type": "code",
   "execution_count": null,
   "metadata": {},
   "outputs": [],
   "source": [
    "vaccination_perhundred_df = vaccination_perhundred_df.loc[vaccination_perhundred_df[\"people_vaccinated_per_hundred\"] > 0]\n",
    "\n",
    "vaccination_perhundred_df.head()"
   ]
  },
  {
   "cell_type": "code",
   "execution_count": null,
   "metadata": {},
   "outputs": [],
   "source": [
    "# group by country for third table \n",
    "\n",
    "# vaccination_country_df = vaccinations_df.groupby\n",
    "# vaccination_country_df.head()# Setting Up Country Reference Table\n",
    "countries_df = pd.DataFrame({\"location\": vaccinations_df[\"location\"].unique(), \"iso_code\": vaccinations_df[\"iso_code\"].unique()})\n",
    "countries_df.head()"
   ]
  },
  {
   "cell_type": "markdown",
   "metadata": {},
   "source": [
    "## Region Date Metadata"
   ]
  },
  {
   "cell_type": "code",
   "execution_count": null,
   "metadata": {},
   "outputs": [],
   "source": [
    "# read region_date_metadata.csv\n",
    "\n",
    "path = \"Resources/region_date_metadata.csv\"\n",
    "region_date_df = pd.read_csv(path)\n",
    "region_date_df.head()"
   ]
  },
  {
   "cell_type": "code",
   "execution_count": null,
   "metadata": {},
   "outputs": [],
   "source": [
    "#Set column for 4th table\n",
    "region_date_metadata = region_date_df[['Country_Region', 'Province_State', 'Date', 'Recoveries']].copy()\n",
    "region_date_metadata.head()"
   ]
  },
  {
   "cell_type": "code",
   "execution_count": null,
   "metadata": {},
   "outputs": [],
   "source": [
    "#Groupby the data  as per Country_region and Date\n",
    "region_date_metadata_groupby = region_date_metadata.groupby(['Country_Region', 'Date']).sum()['Recoveries']\n",
    "region_date_metadata_groupby = pd.DataFrame(region_date_metadata_groupby)\n",
    "region_date_metadata_groupby"
   ]
  },
  {
   "cell_type": "code",
   "execution_count": null,
   "metadata": {},
   "outputs": [],
   "source": [
    "#Removing index columns\n",
    "region_date_metadata_df = region_date_metadata_groupby.reset_index(['Country_Region', 'Date'])\n",
    "region_date_metadata_df"
   ]
  },
  {
   "cell_type": "markdown",
   "metadata": {},
   "source": [
    "## Region Metadata"
   ]
  },
  {
   "cell_type": "code",
   "execution_count": null,
   "metadata": {},
   "outputs": [],
   "source": [
    "# load csv to pandas dataframe\n",
    "\n",
    "path2 = \"Resources/region_metadata.csv\"\n",
    "region_metadata_df = pd.read_csv(path2)\n",
    "region_metadata_df.head()"
   ]
  },
  {
   "cell_type": "code",
   "execution_count": null,
   "metadata": {},
   "outputs": [],
   "source": [
    "region_metadata = region_metadata_df.copy()"
   ]
  },
  {
   "cell_type": "code",
   "execution_count": null,
   "metadata": {},
   "outputs": [],
   "source": [
    "#groupby \n",
    "\n",
    "region_metadata_groupby = region_metadata.groupby(['Country_Region']).sum()['population']\n",
    "region_metadata_ = pd.DataFrame(region_metadata_groupby)"
   ]
  },
  {
   "cell_type": "code",
   "execution_count": null,
   "metadata": {},
   "outputs": [],
   "source": [
    "#reset_index to fit in the SQL table\n",
    "region_metadata_ = region_metadata_.reset_index('Country_Region')\n",
    "region_metadata_"
   ]
  },
  {
   "cell_type": "code",
   "execution_count": null,
   "metadata": {},
   "outputs": [],
   "source": [
    "# connect to SQL database \n",
    "\n",
    "protocol = 'postgresql'\n",
    "username = config.username\n",
    "password = config.password\n",
    "host = 'localhost'\n",
    "port = 5432\n",
    "database_name = config.database_name\n",
    "rds_connection_string = f'{protocol}://{username}:{password}@{host}:{port}/{database_name}'\n",
    "engine = create_engine(rds_connection_string)\n",
    "insp = inspect(engine)"
   ]
  },
  {
   "cell_type": "code",
   "execution_count": null,
   "metadata": {},
   "outputs": [],
   "source": [
    "# check tables\n",
    "\n",
    "insp.get_table_names()"
   ]
  },
  {
   "cell_type": "code",
   "execution_count": null,
   "metadata": {},
   "outputs": [],
   "source": [
    "# Push countries lookup table to database\n",
    "countries_df.to_sql(name=\"countries\", con=engine, if_exists=\"append\", index=False)"
   ]
  },
  {
   "cell_type": "code",
   "execution_count": null,
   "metadata": {},
   "outputs": [],
   "source": [
    "# push first table to database  \n",
    "\n",
    "vaccination_rate_df.to_sql(name='vaccinations', con=engine, if_exists='append', index=False)"
   ]
  },
  {
   "cell_type": "code",
   "execution_count": null,
   "metadata": {},
   "outputs": [],
   "source": [
    "# push second table to database  \n",
    "\n",
    "vaccination_perhundred_df.to_sql(name='vaccinations_per_hundred', con=engine, if_exists='append', index=False)"
   ]
  },
  {
   "cell_type": "code",
   "execution_count": null,
   "metadata": {},
   "outputs": [],
   "source": [
    "# push thrid table to database  \n",
    "\n",
    "# vaccination_country_df.to_sql(name='', con=engine, if_exists='append', index=False)"
   ]
  },
  {
   "cell_type": "code",
   "execution_count": null,
   "metadata": {},
   "outputs": [],
   "source": [
    "# check data upload first table\n",
    "\n",
    "pd.read_sql_query('select * from ', con=engine).head()"
   ]
  },
  {
   "cell_type": "code",
   "execution_count": null,
   "metadata": {},
   "outputs": [],
   "source": [
    "# check data upload second table\n",
    "\n",
    "pd.read_sql_query('select * from ', con=engine).head()"
   ]
  },
  {
   "cell_type": "code",
   "execution_count": null,
   "metadata": {},
   "outputs": [],
   "source": [
    "# check data upload third table\n",
    "\n",
    "pd.read_sql_query('select * from ', con=engine).head()"
   ]
  }
 ],
 "metadata": {
  "kernelspec": {
   "display_name": "Python 3.9.12 ('base')",
   "language": "python",
   "name": "python3"
  },
  "language_info": {
   "codemirror_mode": {
    "name": "ipython",
    "version": 3
   },
   "file_extension": ".py",
   "mimetype": "text/x-python",
   "name": "python",
   "nbconvert_exporter": "python",
   "pygments_lexer": "ipython3",
   "version": "3.9.12"
  },
  "vscode": {
   "interpreter": {
    "hash": "9caa730cadaf79f02e6c0e023f9384e0cf856c4bf4ab42d1a9952074a22e8fbb"
   }
  }
 },
 "nbformat": 4,
 "nbformat_minor": 2
}
