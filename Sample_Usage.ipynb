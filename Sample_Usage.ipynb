{
 "cells": [
  {
   "cell_type": "code",
   "execution_count": 1,
   "id": "7101c64c",
   "metadata": {},
   "outputs": [],
   "source": [
    "# import dependecies \n",
    "\n",
    "import pandas as pd\n",
    "from sqlalchemy import create_engine\n",
    "from sqlalchemy import inspect\n",
    "\n",
    "#Config should contain database username as username and database password as password\n",
    "import config"
   ]
  },
  {
   "cell_type": "code",
   "execution_count": null,
   "id": "4568caa6",
   "metadata": {},
   "outputs": [],
   "source": [
    "# connect to SQL database \n",
    "\n",
    "protocol = 'postgresql'\n",
    "username = config.username\n",
    "password = config.password\n",
    "host = 'localhost'\n",
    "port = 5432\n",
    "database_name = config.database_name\n",
    "rds_connection_string = f'{protocol}://{username}:{password}@{host}:{port}/{database_name}'\n",
    "engine = create_engine(rds_connection_string)\n",
    "conn = engine.connect()"
   ]
  },
  {
   "cell_type": "code",
   "execution_count": null,
   "id": "f980f24e",
   "metadata": {},
   "outputs": [],
   "source": [
    "# Loading dataframes\n",
    "vaccinations = pd.read_sql(\"SELECT * FROM vaccinations\", con, index_col=None, parse_dates=[\"date\"])\n",
    "vaccination_rates = pd.read_sql(\"SELECT * FROM vaccination_rates\", con, index_col=None, parse_dates=[\"date\"])\n",
    "region_metadata = pd.read_sql(\"SELECT * FROM vaccination_rates\", con, index_col=None)\n",
    "region_date_metadata = pd.read_sql(\"SELECT * FROM region_date_metadata\", con, index_col=None, parse_dates = [\"Date\"])"
   ]
  },
  {
   "cell_type": "code",
   "execution_count": null,
   "id": "193df341",
   "metadata": {},
   "outputs": [],
   "source": [
    "#Comparing vaccination rate against Recoveries\n"
   ]
  }
 ],
 "metadata": {
  "kernelspec": {
   "display_name": "Python 3 (ipykernel)",
   "language": "python",
   "name": "python3"
  },
  "language_info": {
   "codemirror_mode": {
    "name": "ipython",
    "version": 3
   },
   "file_extension": ".py",
   "mimetype": "text/x-python",
   "name": "python",
   "nbconvert_exporter": "python",
   "pygments_lexer": "ipython3",
   "version": "3.7.7"
  }
 },
 "nbformat": 4,
 "nbformat_minor": 5
}
